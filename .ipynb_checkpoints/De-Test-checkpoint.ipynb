{
 "cells": [
  {
   "cell_type": "code",
   "execution_count": 1,
   "metadata": {},
   "outputs": [],
   "source": [
    "import pandas as pd\n",
    "import numpy as np"
   ]
  },
  {
   "cell_type": "code",
   "execution_count": 2,
   "metadata": {},
   "outputs": [],
   "source": [
    "#pd.options.display.max_colwidth = 10"
   ]
  },
  {
   "cell_type": "code",
   "execution_count": 73,
   "metadata": {},
   "outputs": [],
   "source": [
    "data = pd.read_csv('DE_Lead_test.csv')"
   ]
  },
  {
   "cell_type": "code",
   "execution_count": 74,
   "metadata": {},
   "outputs": [
    {
     "data": {
      "text/html": [
       "<div>\n",
       "<style scoped>\n",
       "    .dataframe tbody tr th:only-of-type {\n",
       "        vertical-align: middle;\n",
       "    }\n",
       "\n",
       "    .dataframe tbody tr th {\n",
       "        vertical-align: top;\n",
       "    }\n",
       "\n",
       "    .dataframe thead th {\n",
       "        text-align: right;\n",
       "    }\n",
       "</style>\n",
       "<table border=\"1\" class=\"dataframe\">\n",
       "  <thead>\n",
       "    <tr style=\"text-align: right;\">\n",
       "      <th></th>\n",
       "      <th>active</th>\n",
       "      <th>created_at</th>\n",
       "      <th>updated_at</th>\n",
       "      <th>last_seen_at</th>\n",
       "      <th>title</th>\n",
       "      <th>city</th>\n",
       "      <th>year</th>\n",
       "      <th>price</th>\n",
       "      <th>make</th>\n",
       "      <th>model</th>\n",
       "      <th>submodel</th>\n",
       "      <th>tags</th>\n",
       "      <th>engine_displacement</th>\n",
       "      <th>Unnamed: 13</th>\n",
       "    </tr>\n",
       "  </thead>\n",
       "  <tbody>\n",
       "    <tr>\n",
       "      <th>0</th>\n",
       "      <td>False</td>\n",
       "      <td>2020-05-19 00:34:55.98678+00</td>\n",
       "      <td>2020-05-30 04:06:33.625583+00</td>\n",
       "      <td>2020-05-30 04:06:33.625583+00</td>\n",
       "      <td>Nissan Sunny for sale: AED 16,000. Grey/Silver...</td>\n",
       "      <td>Sharjah</td>\n",
       "      <td>2017</td>\n",
       "      <td>16000.0</td>\n",
       "      <td>Nissan</td>\n",
       "      <td>Sunny</td>\n",
       "      <td>NaN</td>\n",
       "      <td>NaN</td>\n",
       "      <td>NaN</td>\n",
       "      <td>NaN</td>\n",
       "    </tr>\n",
       "    <tr>\n",
       "      <th>1</th>\n",
       "      <td>False</td>\n",
       "      <td>2019-12-25 02:54:19.01262+00</td>\n",
       "      <td>2020-01-29 22:50:06.166362+00</td>\n",
       "      <td>2020-01-27 02:01:20.083563+00</td>\n",
       "      <td>Mercedes-Benz G 500 2019</td>\n",
       "      <td>Al Ain</td>\n",
       "      <td>2019</td>\n",
       "      <td>629000.0</td>\n",
       "      <td>Mercedes-Benz</td>\n",
       "      <td>Mercedes-Benz G-Class</td>\n",
       "      <td>G 500</td>\n",
       "      <td>{under_warranty}</td>\n",
       "      <td>NaN</td>\n",
       "      <td>NaN</td>\n",
       "    </tr>\n",
       "    <tr>\n",
       "      <th>2</th>\n",
       "      <td>False</td>\n",
       "      <td>2020-05-11 00:19:54.454751+00</td>\n",
       "      <td>2020-05-19 21:50:06.57541+00</td>\n",
       "      <td>2020-05-17 04:01:08.193533+00</td>\n",
       "      <td>Nissan patrol super safari - 13000 KM ONLY- GO...</td>\n",
       "      <td>Dubai</td>\n",
       "      <td>2019</td>\n",
       "      <td>134500.0</td>\n",
       "      <td>Nissan</td>\n",
       "      <td>Patrol</td>\n",
       "      <td>Safari SR</td>\n",
       "      <td>{under_warranty}</td>\n",
       "      <td>NaN</td>\n",
       "      <td>NaN</td>\n",
       "    </tr>\n",
       "    <tr>\n",
       "      <th>3</th>\n",
       "      <td>False</td>\n",
       "      <td>2020-08-19 01:27:11.938716+00</td>\n",
       "      <td>2020-09-08 01:33:47.834042+00</td>\n",
       "      <td>2020-09-08 01:33:47.834042+00</td>\n",
       "      <td>Kia Sportage</td>\n",
       "      <td>Dubai</td>\n",
       "      <td>2019</td>\n",
       "      <td>61990.0</td>\n",
       "      <td>Kia</td>\n",
       "      <td>Sportage</td>\n",
       "      <td>LX</td>\n",
       "      <td>{under_warranty}</td>\n",
       "      <td>NaN</td>\n",
       "      <td>NaN</td>\n",
       "    </tr>\n",
       "    <tr>\n",
       "      <th>4</th>\n",
       "      <td>False</td>\n",
       "      <td>2019-04-16 02:17:19.538276+00</td>\n",
       "      <td>2020-04-18 01:03:42.14273+00</td>\n",
       "      <td>2019-06-02 02:08:11.736506+00</td>\n",
       "      <td>Lexus GS 350 P 3.5L AT Platinum Ref# 8812 for ...</td>\n",
       "      <td>Dubai</td>\n",
       "      <td>2017</td>\n",
       "      <td>178990.0</td>\n",
       "      <td>Lexus</td>\n",
       "      <td>GS series</td>\n",
       "      <td>GS 350 P 3.5L AT Platinum Ref# 8812</td>\n",
       "      <td>NaN</td>\n",
       "      <td>NaN</td>\n",
       "      <td>NaN</td>\n",
       "    </tr>\n",
       "  </tbody>\n",
       "</table>\n",
       "</div>"
      ],
      "text/plain": [
       "   active                     created_at                     updated_at  \\\n",
       "0   False   2020-05-19 00:34:55.98678+00  2020-05-30 04:06:33.625583+00   \n",
       "1   False   2019-12-25 02:54:19.01262+00  2020-01-29 22:50:06.166362+00   \n",
       "2   False  2020-05-11 00:19:54.454751+00   2020-05-19 21:50:06.57541+00   \n",
       "3   False  2020-08-19 01:27:11.938716+00  2020-09-08 01:33:47.834042+00   \n",
       "4   False  2019-04-16 02:17:19.538276+00   2020-04-18 01:03:42.14273+00   \n",
       "\n",
       "                    last_seen_at  \\\n",
       "0  2020-05-30 04:06:33.625583+00   \n",
       "1  2020-01-27 02:01:20.083563+00   \n",
       "2  2020-05-17 04:01:08.193533+00   \n",
       "3  2020-09-08 01:33:47.834042+00   \n",
       "4  2019-06-02 02:08:11.736506+00   \n",
       "\n",
       "                                               title     city  year     price  \\\n",
       "0  Nissan Sunny for sale: AED 16,000. Grey/Silver...  Sharjah  2017   16000.0   \n",
       "1                           Mercedes-Benz G 500 2019   Al Ain  2019  629000.0   \n",
       "2  Nissan patrol super safari - 13000 KM ONLY- GO...    Dubai  2019  134500.0   \n",
       "3                                       Kia Sportage    Dubai  2019   61990.0   \n",
       "4  Lexus GS 350 P 3.5L AT Platinum Ref# 8812 for ...    Dubai  2017  178990.0   \n",
       "\n",
       "            make                  model                             submodel  \\\n",
       "0         Nissan                  Sunny                                  NaN   \n",
       "1  Mercedes-Benz  Mercedes-Benz G-Class                                G 500   \n",
       "2         Nissan                 Patrol                            Safari SR   \n",
       "3            Kia               Sportage                                   LX   \n",
       "4          Lexus              GS series  GS 350 P 3.5L AT Platinum Ref# 8812   \n",
       "\n",
       "               tags engine_displacement  Unnamed: 13  \n",
       "0               NaN                 NaN          NaN  \n",
       "1  {under_warranty}                 NaN          NaN  \n",
       "2  {under_warranty}                 NaN          NaN  \n",
       "3  {under_warranty}                 NaN          NaN  \n",
       "4               NaN                 NaN          NaN  "
      ]
     },
     "execution_count": 74,
     "metadata": {},
     "output_type": "execute_result"
    }
   ],
   "source": [
    "data.head()"
   ]
  },
  {
   "cell_type": "code",
   "execution_count": null,
   "metadata": {},
   "outputs": [],
   "source": [
    "data.info()"
   ]
  },
  {
   "cell_type": "code",
   "execution_count": null,
   "metadata": {},
   "outputs": [],
   "source": [
    "data.shape"
   ]
  },
  {
   "cell_type": "code",
   "execution_count": null,
   "metadata": {},
   "outputs": [],
   "source": [
    "data.isnull().values.any()"
   ]
  },
  {
   "cell_type": "markdown",
   "metadata": {},
   "source": [
    "### QUESTION 1 DUPLICATE ROWS"
   ]
  },
  {
   "cell_type": "code",
   "execution_count": null,
   "metadata": {},
   "outputs": [],
   "source": [
    "duplicate = data[data.duplicated()]"
   ]
  },
  {
   "cell_type": "code",
   "execution_count": null,
   "metadata": {},
   "outputs": [],
   "source": [
    "duplicate"
   ]
  },
  {
   "cell_type": "code",
   "execution_count": null,
   "metadata": {},
   "outputs": [],
   "source": []
  },
  {
   "cell_type": "markdown",
   "metadata": {},
   "source": [
    "### Question 2 Removing NAN and outliers from engine_displacement column"
   ]
  },
  {
   "cell_type": "code",
   "execution_count": null,
   "metadata": {},
   "outputs": [],
   "source": [
    "data['engine_displacement'] = data['engine_displacement'].replace(['none'],'NaN', inplace=True)"
   ]
  },
  {
   "cell_type": "markdown",
   "metadata": {},
   "source": [
    "#### I will have to drop the  engine_displacement column because it doesn't contain any values all appear to be NaN"
   ]
  },
  {
   "cell_type": "code",
   "execution_count": null,
   "metadata": {},
   "outputs": [],
   "source": [
    "data.drop('engine_displacement', inplace=True, axis=1)"
   ]
  },
  {
   "cell_type": "code",
   "execution_count": null,
   "metadata": {},
   "outputs": [],
   "source": []
  },
  {
   "cell_type": "code",
   "execution_count": null,
   "metadata": {},
   "outputs": [],
   "source": [
    "data['tags'].isna().sum()"
   ]
  },
  {
   "cell_type": "code",
   "execution_count": null,
   "metadata": {},
   "outputs": [],
   "source": [
    "def Tag_Bool(data):\n",
    "    if data['tags'] == '{under_warranty}':\n",
    "        return True\n",
    "    return False"
   ]
  },
  {
   "cell_type": "code",
   "execution_count": null,
   "metadata": {},
   "outputs": [],
   "source": [
    "data['tag-bool'] = data.apply(Tag_Bool, axis=1)"
   ]
  },
  {
   "cell_type": "code",
   "execution_count": null,
   "metadata": {},
   "outputs": [],
   "source": []
  },
  {
   "cell_type": "code",
   "execution_count": null,
   "metadata": {},
   "outputs": [],
   "source": [
    "data['title'] \n",
    "#data['tags']"
   ]
  },
  {
   "cell_type": "code",
   "execution_count": null,
   "metadata": {},
   "outputs": [],
   "source": [
    "checks = data['title'].str.contains(\"WARRANTY\".lower(), case=False)\n",
    "#checks[:10]"
   ]
  },
  {
   "cell_type": "code",
   "execution_count": null,
   "metadata": {},
   "outputs": [],
   "source": [
    "check_tag = data['tags'].str.contains(\"warranty\".lower(), case=False)\n",
    "#check_tag[:10]"
   ]
  },
  {
   "cell_type": "code",
   "execution_count": null,
   "metadata": {},
   "outputs": [],
   "source": [
    "for i,j in zip(checks, check_tag):\n",
    "    if (i == True) and (j == True):\n",
    "        print('warranty matches', i, j)\n",
    "    print('warranty does not match', i, j)"
   ]
  },
  {
   "cell_type": "code",
   "execution_count": 4,
   "metadata": {},
   "outputs": [],
   "source": [
    "city_ = data.groupby('city')"
   ]
  },
  {
   "cell_type": "code",
   "execution_count": 67,
   "metadata": {},
   "outputs": [],
   "source": [
    "smallest = city_['price'].nlargest(2)"
   ]
  },
  {
   "cell_type": "code",
   "execution_count": 72,
   "metadata": {},
   "outputs": [
    {
     "data": {
      "text/html": [
       "<div>\n",
       "<style scoped>\n",
       "    .dataframe tbody tr th:only-of-type {\n",
       "        vertical-align: middle;\n",
       "    }\n",
       "\n",
       "    .dataframe tbody tr th {\n",
       "        vertical-align: top;\n",
       "    }\n",
       "\n",
       "    .dataframe thead th {\n",
       "        text-align: right;\n",
       "    }\n",
       "</style>\n",
       "<table border=\"1\" class=\"dataframe\">\n",
       "  <thead>\n",
       "    <tr style=\"text-align: right;\">\n",
       "      <th></th>\n",
       "      <th></th>\n",
       "      <th>price</th>\n",
       "    </tr>\n",
       "    <tr>\n",
       "      <th>city</th>\n",
       "      <th></th>\n",
       "      <th></th>\n",
       "    </tr>\n",
       "  </thead>\n",
       "  <tbody>\n",
       "    <tr>\n",
       "      <th>AL Mafraq Industrial Area</th>\n",
       "      <th>4916</th>\n",
       "      <td>18500.0</td>\n",
       "    </tr>\n",
       "    <tr>\n",
       "      <th rowspan=\"2\" valign=\"top\">Abu Dhabi</th>\n",
       "      <th>2569</th>\n",
       "      <td>869000.0</td>\n",
       "    </tr>\n",
       "    <tr>\n",
       "      <th>3512</th>\n",
       "      <td>780000.0</td>\n",
       "    </tr>\n",
       "    <tr>\n",
       "      <th>Abu Dhabi - Al Wahda Mall</th>\n",
       "      <th>3215</th>\n",
       "      <td>32500.0</td>\n",
       "    </tr>\n",
       "    <tr>\n",
       "      <th rowspan=\"2\" valign=\"top\">Abu Dhabi - Dalma Mall, Musaffah</th>\n",
       "      <th>2238</th>\n",
       "      <td>15625.0</td>\n",
       "    </tr>\n",
       "    <tr>\n",
       "      <th>3064</th>\n",
       "      <td>15100.0</td>\n",
       "    </tr>\n",
       "    <tr>\n",
       "      <th rowspan=\"2\" valign=\"top\">Abu Dhabi - Khalidiyah Mall</th>\n",
       "      <th>2902</th>\n",
       "      <td>86400.0</td>\n",
       "    </tr>\n",
       "    <tr>\n",
       "      <th>578</th>\n",
       "      <td>47301.0</td>\n",
       "    </tr>\n",
       "    <tr>\n",
       "      <th rowspan=\"2\" valign=\"top\">Abu Dhabi - Mushrif Mall</th>\n",
       "      <th>1545</th>\n",
       "      <td>86500.0</td>\n",
       "    </tr>\n",
       "    <tr>\n",
       "      <th>799</th>\n",
       "      <td>81000.0</td>\n",
       "    </tr>\n",
       "    <tr>\n",
       "      <th>Abu Dhabi - My City Centre Masdar</th>\n",
       "      <th>4088</th>\n",
       "      <td>31500.0</td>\n",
       "    </tr>\n",
       "    <tr>\n",
       "      <th>Abu Dhabi Airport Expansion</th>\n",
       "      <th>4565</th>\n",
       "      <td>21000.0</td>\n",
       "    </tr>\n",
       "    <tr>\n",
       "      <th>Abu Dhabi Mall</th>\n",
       "      <th>187</th>\n",
       "      <td>28000.0</td>\n",
       "    </tr>\n",
       "    <tr>\n",
       "      <th rowspan=\"2\" valign=\"top\">Abu Hail</th>\n",
       "      <th>2924</th>\n",
       "      <td>10500.0</td>\n",
       "    </tr>\n",
       "    <tr>\n",
       "      <th>4967</th>\n",
       "      <td>10000.0</td>\n",
       "    </tr>\n",
       "    <tr>\n",
       "      <th rowspan=\"2\" valign=\"top\">Abu Shagara</th>\n",
       "      <th>3423</th>\n",
       "      <td>19000.0</td>\n",
       "    </tr>\n",
       "    <tr>\n",
       "      <th>3619</th>\n",
       "      <td>15000.0</td>\n",
       "    </tr>\n",
       "    <tr>\n",
       "      <th>Abu Tina</th>\n",
       "      <th>2536</th>\n",
       "      <td>26500.0</td>\n",
       "    </tr>\n",
       "    <tr>\n",
       "      <th rowspan=\"2\" valign=\"top\">Ajman</th>\n",
       "      <th>1260</th>\n",
       "      <td>270000.0</td>\n",
       "    </tr>\n",
       "    <tr>\n",
       "      <th>2175</th>\n",
       "      <td>210000.0</td>\n",
       "    </tr>\n",
       "    <tr>\n",
       "      <th rowspan=\"2\" valign=\"top\">Al Ain</th>\n",
       "      <th>1</th>\n",
       "      <td>629000.0</td>\n",
       "    </tr>\n",
       "    <tr>\n",
       "      <th>1551</th>\n",
       "      <td>345000.0</td>\n",
       "    </tr>\n",
       "    <tr>\n",
       "      <th rowspan=\"2\" valign=\"top\">Al Awir</th>\n",
       "      <th>1178</th>\n",
       "      <td>310000.0</td>\n",
       "    </tr>\n",
       "    <tr>\n",
       "      <th>4001</th>\n",
       "      <td>285000.0</td>\n",
       "    </tr>\n",
       "    <tr>\n",
       "      <th rowspan=\"2\" valign=\"top\">Al Badaa</th>\n",
       "      <th>4609</th>\n",
       "      <td>250000.0</td>\n",
       "    </tr>\n",
       "    <tr>\n",
       "      <th>4617</th>\n",
       "      <td>100000.0</td>\n",
       "    </tr>\n",
       "    <tr>\n",
       "      <th rowspan=\"2\" valign=\"top\">Al Barsha</th>\n",
       "      <th>2899</th>\n",
       "      <td>40000.0</td>\n",
       "    </tr>\n",
       "    <tr>\n",
       "      <th>1476</th>\n",
       "      <td>23000.0</td>\n",
       "    </tr>\n",
       "    <tr>\n",
       "      <th rowspan=\"2\" valign=\"top\">Al Barsha 1</th>\n",
       "      <th>3816</th>\n",
       "      <td>11500.0</td>\n",
       "    </tr>\n",
       "    <tr>\n",
       "      <th>1112</th>\n",
       "      <td>8000.0</td>\n",
       "    </tr>\n",
       "  </tbody>\n",
       "</table>\n",
       "</div>"
      ],
      "text/plain": [
       "                                           price\n",
       "city                                            \n",
       "AL Mafraq Industrial Area         4916   18500.0\n",
       "Abu Dhabi                         2569  869000.0\n",
       "                                  3512  780000.0\n",
       "Abu Dhabi - Al Wahda Mall         3215   32500.0\n",
       "Abu Dhabi - Dalma Mall, Musaffah  2238   15625.0\n",
       "                                  3064   15100.0\n",
       "Abu Dhabi - Khalidiyah Mall       2902   86400.0\n",
       "                                  578    47301.0\n",
       "Abu Dhabi - Mushrif Mall          1545   86500.0\n",
       "                                  799    81000.0\n",
       "Abu Dhabi - My City Centre Masdar 4088   31500.0\n",
       "Abu Dhabi Airport Expansion       4565   21000.0\n",
       "Abu Dhabi Mall                    187    28000.0\n",
       "Abu Hail                          2924   10500.0\n",
       "                                  4967   10000.0\n",
       "Abu Shagara                       3423   19000.0\n",
       "                                  3619   15000.0\n",
       "Abu Tina                          2536   26500.0\n",
       "Ajman                             1260  270000.0\n",
       "                                  2175  210000.0\n",
       "Al Ain                            1     629000.0\n",
       "                                  1551  345000.0\n",
       "Al Awir                           1178  310000.0\n",
       "                                  4001  285000.0\n",
       "Al Badaa                          4609  250000.0\n",
       "                                  4617  100000.0\n",
       "Al Barsha                         2899   40000.0\n",
       "                                  1476   23000.0\n",
       "Al Barsha 1                       3816   11500.0\n",
       "                                  1112    8000.0"
      ]
     },
     "execution_count": 72,
     "metadata": {},
     "output_type": "execute_result"
    }
   ],
   "source": [
    "pd.DataFrame(smallest)[:30]"
   ]
  },
  {
   "cell_type": "code",
   "execution_count": 88,
   "metadata": {},
   "outputs": [],
   "source": [
    "make = data['make'].value_counts()"
   ]
  },
  {
   "cell_type": "code",
   "execution_count": 90,
   "metadata": {},
   "outputs": [
    {
     "data": {
      "text/plain": [
       "Land Cruiser                                                             140\n",
       "Patrol                                                                   101\n",
       "Pajero                                                                    76\n",
       "Hilux                                                                     66\n",
       "Corolla                                                                   64\n",
       "                                                                        ... \n",
       "307                                                                        1\n",
       "Corolla 2.0XLi V4 A/T - 16″ wheels - beige interior - speed projector      1\n",
       "LX                                                                         1\n",
       "gmc                                                                        1\n",
       "M-Series                                                                   1\n",
       "Name: model, Length: 1123, dtype: int64"
      ]
     },
     "execution_count": 90,
     "metadata": {},
     "output_type": "execute_result"
    }
   ],
   "source": [
    "model = data['model'].value_counts()\n",
    "model"
   ]
  },
  {
   "cell_type": "code",
   "execution_count": null,
   "metadata": {},
   "outputs": [],
   "source": []
  }
 ],
 "metadata": {
  "kernelspec": {
   "display_name": "Python 3",
   "language": "python",
   "name": "python3"
  },
  "language_info": {
   "codemirror_mode": {
    "name": "ipython",
    "version": 3
   },
   "file_extension": ".py",
   "mimetype": "text/x-python",
   "name": "python",
   "nbconvert_exporter": "python",
   "pygments_lexer": "ipython3",
   "version": "3.7.3"
  }
 },
 "nbformat": 4,
 "nbformat_minor": 2
}
